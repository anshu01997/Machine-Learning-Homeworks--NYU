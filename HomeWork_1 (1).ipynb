{
  "nbformat": 4,
  "nbformat_minor": 0,
  "metadata": {
    "colab": {
      "name": "HomeWork 1",
      "provenance": [],
      "collapsed_sections": []
    },
    "kernelspec": {
      "name": "python3",
      "display_name": "Python 3"
    }
  },
  "cells": [
    {
      "cell_type": "code",
      "metadata": {
        "id": "-vCCdEVMMOoE",
        "colab_type": "code",
        "colab": {
          "base_uri": "https://localhost:8080/",
          "height": 1000
        },
        "outputId": "4edb53ff-f016-403c-b69d-469dbcc0b6c2"
      },
      "source": [
        "# Question 3\n",
        "import numpy as np\n",
        "import matplotlib.pyplot as plt\n",
        "\n",
        "dlist = [3, 50, 100, 200, 500, 1000] \n",
        "for d in dlist:\n",
        "  mean = [100 for x in range(d)]\n",
        "  cov = [[1 for x in range(d)] for y in range(d)]\n",
        "  # cov = [[1, 1, 1], [1, 1, 1], [1, 1, 1]]\n",
        "\n",
        "  samples = np.random.multivariate_normal(mean, cov, 10000)\n",
        "  # print(np.random.multivariate_normal(mean, cov, 10000))\n",
        "  norms = []\n",
        "  for p in samples:\n",
        "    norms.append(np.linalg.norm(p, ord = 2))\n",
        "  print(\"standard deviation:\", np.std(norms))\n",
        "  print(\"average:\", np.average(norms))\n",
        "  plt.figure()\n",
        "  plt.hist(norms, bins=45)\n",
        "  plt.show()\n",
        "  print('-  --  --  --  --  --  --  --  --  --  --  -\\n')"
      ],
      "execution_count": 91,
      "outputs": [
        {
          "output_type": "stream",
          "text": [
            "standard deviation: 1.740025845777873\n",
            "average: 173.18743519156462\n"
          ],
          "name": "stdout"
        },
        {
          "output_type": "display_data",
          "data": {
            "image/png": "[encoded data removed]",
            "text/plain": [
              "<Figure size 432x288 with 1 Axes>"
            ]
          },
          "metadata": {
            "tags": []
          }
        },
        {
          "output_type": "stream",
          "text": [
            "-  --  --  --  --  --  --  --  --  --  --  -\n",
            "\n",
            "standard deviation: 7.066415778189622\n",
            "average: 707.1407577537717\n"
          ],
          "name": "stdout"
        },
        {
          "output_type": "display_data",
          "data": {
            "image/png": "[encoded data removed]",
            "text/plain": [
              "<Figure size 432x288 with 1 Axes>"
            ]
          },
          "metadata": {
            "tags": []
          }
        },
        {
          "output_type": "stream",
          "text": [
            "-  --  --  --  --  --  --  --  --  --  --  -\n",
            "\n",
            "standard deviation: 9.934294307730182\n",
            "average: 999.8940491748315\n"
          ],
          "name": "stdout"
        },
        {
          "output_type": "display_data",
          "data": {
            "image/png": "[encoded data removed]",
            "text/plain": [
              "<Figure size 432x288 with 1 Axes>"
            ]
          },
          "metadata": {
            "tags": []
          }
        },
        {
          "output_type": "stream",
          "text": [
            "-  --  --  --  --  --  --  --  --  --  --  -\n",
            "\n",
            "standard deviation: 14.152031695677975\n",
            "average: 1414.0624202606314\n"
          ],
          "name": "stdout"
        },
        {
          "output_type": "display_data",
          "data": {
            "image/png": "[encoded data removed]",
            "text/plain": [
              "<Figure size 432x288 with 1 Axes>"
            ]
          },
          "metadata": {
            "tags": []
          }
        },
        {
          "output_type": "stream",
          "text": [
            "-  --  --  --  --  --  --  --  --  --  --  -\n",
            "\n",
            "standard deviation: 22.72628258658537\n",
            "average: 2236.0882299723066\n"
          ],
          "name": "stdout"
        },
        {
          "output_type": "display_data",
          "data": {
            "image/png": "[encoded data removed]",
            "text/plain": [
              "<Figure size 432x288 with 1 Axes>"
            ]
          },
          "metadata": {
            "tags": []
          }
        },
        {
          "output_type": "stream",
          "text": [
            "-  --  --  --  --  --  --  --  --  --  --  -\n",
            "\n",
            "standard deviation: 31.67378749259178\n",
            "average: 3161.818215954875\n"
          ],
          "name": "stdout"
        },
        {
          "output_type": "display_data",
          "data": {
            "image/png": "[encoded data removed]",
            "text/plain": [
              "<Figure size 432x288 with 1 Axes>"
            ]
          },
          "metadata": {
            "tags": []
          }
        },
        {
          "output_type": "stream",
          "text": [
            "-  --  --  --  --  --  --  --  --  --  --  -\n",
            "\n"
          ],
          "name": "stdout"
        }
      ]
    },
    {
      "cell_type": "code",
      "metadata": {
        "id": "vrOkkXNvT8VG",
        "colab_type": "code",
        "colab": {
          "base_uri": "https://localhost:8080/",
          "height": 272
        },
        "outputId": "4720a344-8d44-42f2-b09b-2b66e3bf3e29"
      },
      "source": [
        "# Question 4\n",
        "from sklearn.feature_extraction.text import TfidfVectorizer\n",
        "from sklearn.metrics.pairwise import cosine_similarity\n",
        "import pandas as pd\n",
        "\n",
        "file_db = ['d_query.txt', 'd1.txt', 'd2.txt', 'd3.txt', 'd4.txt']\n",
        "\n",
        "docs = []\n",
        "for file_name in file_db:\n",
        "  with open(file_name) as file_data:\n",
        "    docs.append(file_data.read().replace('\\n',' '))\n",
        "\n",
        "vectorizer = TfidfVectorizer(analyzer='word')\n",
        "tfidf_matrix = vectorizer.fit_transform(docs)\n",
        "feature_names = vectorizer.get_feature_names()\n",
        "dense = vectors.todense()\n",
        "denselist = dense.tolist()\n",
        "df = pd.DataFrame(denselist, columns=feature_names)\n",
        "\n",
        "query_vector = tfidf_matrix[0]\n",
        "doc_vectors = tfidf_matrix[1:]\n",
        "\n",
        "cosine_similarities = []\n",
        "\n",
        "for vector in doc_vectors:\n",
        "  cosine_similarities.append(cosine_similarity(vector, query_vector))\n",
        "match_doc_index = cosine_similarities.index(max(cosine_similarities)) + 1\n",
        "print('\\nMaximum similarity with document: ', file_db[match_doc_index])\n",
        "print('\\ncosine similarities:\\n', cosine_similarities)\n",
        "print('\\ntf-idf values:\\n', df)\n",
        "\n"
      ],
      "execution_count": 40,
      "outputs": [
        {
          "output_type": "stream",
          "text": [
            "\n",
            "Maximum similarity with document:  d4.txt\n",
            "\n",
            "cosine similarities:\n",
            " [array([[0.06731648]]), array([[0.05052653]]), array([[0.04964601]]), array([[0.2620208]])]\n",
            "\n",
            "tf-idf values:\n",
            "         000       040       141  ...     yemen      york      zone\n",
            "0  0.000000  0.000000  0.000000  ...  0.000000  0.000000  0.000000\n",
            "1  0.000000  0.000000  0.050786  ...  0.000000  0.000000  0.000000\n",
            "2  0.000000  0.043564  0.000000  ...  0.000000  0.000000  0.043564\n",
            "3  0.000000  0.000000  0.000000  ...  0.000000  0.037454  0.000000\n",
            "4  0.044338  0.000000  0.000000  ...  0.044338  0.000000  0.000000\n",
            "\n",
            "[5 rows x 472 columns]\n"
          ],
          "name": "stdout"
        }
      ]
    }
  ]
}