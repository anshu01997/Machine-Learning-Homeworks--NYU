{
  "nbformat": 4,
  "nbformat_minor": 0,
  "metadata": {
    "colab": {
      "name": "Assignment2-ques3.ipynb",
      "provenance": []
    },
    "kernelspec": {
      "name": "python3",
      "display_name": "Python 3"
    }
  },
  "cells": [
    {
      "cell_type": "markdown",
      "metadata": {
        "id": "AbW5zylOwlpB",
        "colab_type": "text"
      },
      "source": [
        "GOAL: To create our own model for linear regression and find the R-square values between the predicted outpus and test data output.We'll then use sklearn to build the same model and verify the R-square values produced by using sklearn with the values produced from our own model without using sklearn."
      ]
    },
    {
      "cell_type": "markdown",
      "metadata": {
        "id": "BLm9sDlrx6gu",
        "colab_type": "text"
      },
      "source": [
        "We import diabetes dataset from sklearn library and do the test train split in the ratio- 20:80.\n",
        "\n"
      ]
    },
    {
      "cell_type": "code",
      "metadata": {
        "id": "nrUJRjwbqBjW",
        "colab_type": "code",
        "colab": {}
      },
      "source": [
        "import numpy as np\n",
        "from sklearn import datasets\n",
        "\n",
        "\n",
        "X, y = datasets.load_diabetes(return_X_y=True)\n",
        "\n",
        "X_train = X[:-20] \n",
        "X_test = X[-20:]\n",
        "\n",
        "y_train = y[:-20]\n",
        "y_test = y[-20:]"
      ],
      "execution_count": 0,
      "outputs": []
    },
    {
      "cell_type": "markdown",
      "metadata": {
        "id": "nA-j9Vr_yTov",
        "colab_type": "text"
      },
      "source": [
        "We basically use 3 functions here that help us in finding the optimized theta,i.e. the weight matrix by minimizing the cost function, i.e. the MSE.\n",
        "\n",
        "The 3 functions used are: \n",
        "1. forward_propagation - It takes the initialized value of theta (weight matrix) which is typically 0 matrix, our input parameter X and number of columns in input matrix n and calculates our hypothesis h which is nothing but dot multiplication of input X and weight matrix theta.\n",
        "2. gradient_descent - It requires input parameter theta (weight matrix), alpha (learning rate), epochs (number of iterations), hypothesis h (output from previous function), X (input data), y (true out values) and number of n (elements in theta ) and finally, returns the updated value of our cost function (MSE) and weight matrix (theta)\n",
        "3. linear_regression - It requires input that the user needs to enter manually which are X, y, alpha (learning rate) and number of iterations."
      ]
    },
    {
      "cell_type": "code",
      "metadata": {
        "id": "TFO0GCVFrj_m",
        "colab_type": "code",
        "colab": {}
      },
      "source": [
        "def forward_propagation(theta, X, n):\n",
        "    h = np.ones((X.shape[0],1))\n",
        "    theta = theta.reshape(1,n+1)\n",
        "    for i in range(0,X.shape[0]):\n",
        "        h[i] = float(np.matmul(theta, X[i]))\n",
        "    h = h.reshape(X.shape[0])\n",
        "    return h\n",
        "\n",
        "\n",
        "def gradient_descent(theta, alpha, epochs, h, X, y, n):\n",
        "    cost = np.ones(epochs)\n",
        "    for i in range(0,epochs):\n",
        "        theta[0] = theta[0] - (alpha/X.shape[0]) * sum(h - y)\n",
        "        for j in range(1,n+1):\n",
        "            theta[j] = theta[j] - (alpha/X.shape[0])*sum((h-y) * X.transpose()[j])\n",
        "        h = forward_propagation(theta, X, n)\n",
        "        cost[i] = (1/X.shape[0])*0.5*sum(np.square(h - y))\n",
        "    theta = theta.reshape(1,n+1)\n",
        "    return theta, cost\n",
        "\n",
        "\n",
        "def linear_regression(X, y, alpha, epochs):\n",
        "    n = X.shape[1]\n",
        "    one_column = np.ones((X.shape[0],1))\n",
        "    X = np.concatenate((one_column, X), axis = 1)\n",
        "    theta = np.zeros(n+1)\n",
        "    h = forward_propagation(theta, X, n)\n",
        "    theta, cost = gradient_descent(theta,alpha,epochs,h,X,y,n)\n",
        "    return theta, cost\n"
      ],
      "execution_count": 0,
      "outputs": []
    },
    {
      "cell_type": "markdown",
      "metadata": {
        "id": "ouWhWrNbz2QV",
        "colab_type": "text"
      },
      "source": [
        "The linear regression model will be implemented"
      ]
    },
    {
      "cell_type": "code",
      "metadata": {
        "id": "puvBBdN2ro2v",
        "colab_type": "code",
        "colab": {}
      },
      "source": [
        "theta, cost = linear_regression(X_train, y_train,0.05, 40000)"
      ],
      "execution_count": 0,
      "outputs": []
    },
    {
      "cell_type": "markdown",
      "metadata": {
        "id": "sSDyWPNg0CMV",
        "colab_type": "text"
      },
      "source": [
        "now, we'll plot the error plot see how fast our algorithm basically minimizes the weight matrix."
      ]
    },
    {
      "cell_type": "code",
      "metadata": {
        "id": "On60Rbo9rqAn",
        "colab_type": "code",
        "colab": {
          "base_uri": "https://localhost:8080/",
          "height": 297
        },
        "outputId": "60bb2929-f34b-4f2a-f736-53b12d933172"
      },
      "source": [
        "import matplotlib.pyplot as plt\n",
        "cost = list(cost)\n",
        "n_iterations = [x for x in range(1,40001)]\n",
        "plt.plot(n_iterations, cost)\n",
        "plt.xlabel('No. of iterations')\n",
        "plt.ylabel('Cost')"
      ],
      "execution_count": 16,
      "outputs": [
        {
          "output_type": "execute_result",
          "data": {
            "text/plain": [
              "Text(0, 0.5, 'Cost')"
            ]
          },
          "metadata": {
            "tags": []
          },
          "execution_count": 16
        },
        {
          "output_type": "display_data",
          "data": {
            "image/png": "[encoded data removed]",
            "text/plain": [
              "<Figure size 432x288 with 1 Axes>"
            ]
          },
          "metadata": {
            "tags": []
          }
        }
      ]
    },
    {
      "cell_type": "code",
      "metadata": {
        "id": "Tj5FBX4W0nXB",
        "colab_type": "code",
        "colab": {
          "base_uri": "https://localhost:8080/",
          "height": 52
        },
        "outputId": "2f94dd9b-bdfc-4300-eb92-81eec93f592e"
      },
      "source": [
        "print(X_train.shape)  #shape of our input\n",
        "print(theta.shape)    #shape of our weight matrix"
      ],
      "execution_count": 17,
      "outputs": [
        {
          "output_type": "stream",
          "text": [
            "(422, 10)\n",
            "(1, 11)\n"
          ],
          "name": "stdout"
        }
      ]
    },
    {
      "cell_type": "code",
      "metadata": {
        "id": "QfGw1G3L01L2",
        "colab_type": "code",
        "colab": {
          "base_uri": "https://localhost:8080/",
          "height": 121
        },
        "outputId": "38cc9a48-3236-4cc9-c39f-28e981340e46"
      },
      "source": [
        "#calculating the predicted output for our test input and visualizing predicted values and actual output values\n",
        "n = X_test.shape[1]\n",
        "one_column = np.ones((X_test.shape[0],1))\n",
        "X = np.concatenate((one_column, X_test), axis = 1)\n",
        "y_pred = np.dot(theta,X.T)\n",
        "print(y_pred[0])\n",
        "print(y_test)"
      ],
      "execution_count": 22,
      "outputs": [
        {
          "output_type": "stream",
          "text": [
            "[196.4509878  150.26845962 169.09365353 106.91714879 163.60581045\n",
            " 133.41102723 261.45634531 100.46649337 115.02665666 121.50565954\n",
            " 218.94681256  62.43560812 136.49980255 121.35936422  54.67944965\n",
            " 191.58347848 105.09596755 127.34602049 207.17820865  46.67749401]\n",
            "[233.  91. 111. 152. 120.  67. 310.  94. 183.  66. 173.  72.  49.  64.\n",
            "  48. 178. 104. 132. 220.  57.]\n"
          ],
          "name": "stdout"
        }
      ]
    },
    {
      "cell_type": "code",
      "metadata": {
        "id": "Eunvhvju1L_n",
        "colab_type": "code",
        "colab": {
          "base_uri": "https://localhost:8080/",
          "height": 52
        },
        "outputId": "ae8c341f-f3b2-4e3b-ca61-130e4e3a3846"
      },
      "source": [
        "print(y_pred[0].shape)\n",
        "print(y_test.shape)\n"
      ],
      "execution_count": 23,
      "outputs": [
        {
          "output_type": "stream",
          "text": [
            "(20,)\n",
            "(20,)\n"
          ],
          "name": "stdout"
        }
      ]
    },
    {
      "cell_type": "markdown",
      "metadata": {
        "id": "sT5r0jCn1Q-7",
        "colab_type": "text"
      },
      "source": [
        "To find: The R-square value of our model. We'll define the mean function firstly."
      ]
    },
    {
      "cell_type": "code",
      "metadata": {
        "id": "uI10W5NR1b4o",
        "colab_type": "code",
        "colab": {}
      },
      "source": [
        "def mean(y):\n",
        "  temp = 0\n",
        "  for i in range(len(y)):\n",
        "    temp = temp+y[i]\n",
        "  return temp/len(y)"
      ],
      "execution_count": 0,
      "outputs": []
    },
    {
      "cell_type": "code",
      "metadata": {
        "id": "UnOjsgSd1hwO",
        "colab_type": "code",
        "colab": {}
      },
      "source": [
        "#define the squared error then:\n",
        "def squared_error(y_test,y_pred):\n",
        "    return sum((y_pred - y_test)**2)"
      ],
      "execution_count": 0,
      "outputs": []
    },
    {
      "cell_type": "code",
      "metadata": {
        "id": "SjI4U-dh1oOY",
        "colab_type": "code",
        "colab": {}
      },
      "source": [
        "#calculating the R-square value of our model:\n",
        "def coefficient_of_determination(y_test,y_pred):\n",
        "    y_mean_line = [mean(y_test) for y in y_test]\n",
        "    squared_error_regr = squared_error(y_test, y_pred)\n",
        "    variance = squared_error(y_test, y_mean_line)\n",
        "    return 1 - (squared_error_regr/variance)"
      ],
      "execution_count": 0,
      "outputs": []
    },
    {
      "cell_type": "code",
      "metadata": {
        "id": "zDwCFkS31y5U",
        "colab_type": "code",
        "colab": {
          "base_uri": "https://localhost:8080/",
          "height": 35
        },
        "outputId": "396df6a1-acfd-4355-f09b-abfb41fa3f4e"
      },
      "source": [
        "r_squared = coefficient_of_determination(y_test,y_pred[0].T)\n",
        "print(\"R2_score from our own model :\",r_squared)\n"
      ],
      "execution_count": 27,
      "outputs": [
        {
          "output_type": "stream",
          "text": [
            "R2_score from our own model : 0.5825101855093349\n"
          ],
          "name": "stdout"
        }
      ]
    },
    {
      "cell_type": "markdown",
      "metadata": {
        "id": "ky4XCRhQ2Cfm",
        "colab_type": "text"
      },
      "source": [
        "Verifying the R-square values using sklearn to build the regression model"
      ]
    },
    {
      "cell_type": "code",
      "metadata": {
        "id": "wrinuyMg2TER",
        "colab_type": "code",
        "colab": {}
      },
      "source": [
        "from sklearn import linear_model\n",
        "regressor = linear_model.LinearRegression()\n",
        "model = regressor.fit(X_train,y_train)\n",
        "prediction = regressor.predict(X_test)"
      ],
      "execution_count": 0,
      "outputs": []
    },
    {
      "cell_type": "code",
      "metadata": {
        "id": "VX2ptyW52Yms",
        "colab_type": "code",
        "colab": {
          "base_uri": "https://localhost:8080/",
          "height": 121
        },
        "outputId": "b826238e-7f03-4a9d-e883-15a15291481f"
      },
      "source": [
        "#visualizing the predicted and the actual output \n",
        "print(prediction)\n",
        "print(y_test)"
      ],
      "execution_count": 30,
      "outputs": [
        {
          "output_type": "stream",
          "text": [
            "[197.61846908 155.43979328 172.88665147 111.53537279 164.80054784\n",
            " 131.06954875 259.12237761 100.47935157 117.0601052  124.30503555\n",
            " 218.36632793  61.19831284 132.25046751 120.3332925   52.54458691\n",
            " 194.03798088 102.57139702 123.56604987 211.0346317   52.60335674]\n",
            "[233.  91. 111. 152. 120.  67. 310.  94. 183.  66. 173.  72.  49.  64.\n",
            "  48. 178. 104. 132. 220.  57.]\n"
          ],
          "name": "stdout"
        }
      ]
    },
    {
      "cell_type": "code",
      "metadata": {
        "id": "g3WMu4lW2kHf",
        "colab_type": "code",
        "colab": {
          "base_uri": "https://localhost:8080/",
          "height": 35
        },
        "outputId": "b086b2c0-e798-41a6-8b2e-7c0a3c6bcc55"
      },
      "source": [
        "#calculating the R-square value using sklearn\n",
        "from sklearn.metrics import r2_score\n",
        "print(\"R-square value for sklearn model :\",r2_score(y_test,prediction))"
      ],
      "execution_count": 33,
      "outputs": [
        {
          "output_type": "stream",
          "text": [
            "R-square value for sklearn model : 0.5850753022690575\n"
          ],
          "name": "stdout"
        }
      ]
    },
    {
      "cell_type": "markdown",
      "metadata": {
        "id": "kBiLT-YH3AFs",
        "colab_type": "text"
      },
      "source": [
        "Hence, we conclude by verifying that the R-square value that we get by building our own model for linear regression is almost the same value that we get by building the model using sklearn on the same dataset."
      ]
    }
  ]
}