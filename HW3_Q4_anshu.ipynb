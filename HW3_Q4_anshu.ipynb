{
  "nbformat": 4,
  "nbformat_minor": 0,
  "metadata": {
    "kernelspec": {
      "display_name": "Python 3",
      "language": "python",
      "name": "python3"
    },
    "language_info": {
      "codemirror_mode": {
        "name": "ipython",
        "version": 3
      },
      "file_extension": ".py",
      "mimetype": "text/x-python",
      "name": "python",
      "nbconvert_exporter": "python",
      "pygments_lexer": "ipython3",
      "version": "3.7.4"
    },
    "colab": {
      "name": "HW3_Q4-anshu.ipynb",
      "provenance": []
    }
  },
  "cells": [
    {
      "cell_type": "code",
      "metadata": {
        "id": "ezzwisPLyJHx",
        "colab_type": "code",
        "colab": {}
      },
      "source": [
        "import numpy as np\n",
        "import pandas as pd\n",
        "import matplotlib.pyplot as plt\n",
        "import random\n",
        "from sklearn.datasets import make_blobs"
      ],
      "execution_count": 0,
      "outputs": []
    },
    {
      "cell_type": "markdown",
      "metadata": {
        "id": "6fMFOe-01uPR",
        "colab_type": "text"
      },
      "source": [
        "Part a) Plot of the data points on a 2D plane is shown below\n",
        "\n",
        "\n"
      ]
    },
    {
      "cell_type": "code",
      "metadata": {
        "colab_type": "code",
        "outputId": "64aa16df-7a15-47e9-90d0-5f829a3812d7",
        "id": "P1KlLx-nz0fb",
        "colab": {
          "base_uri": "https://localhost:8080/",
          "height": 265
        }
      },
      "source": [
        "center = [[-0.5,-0.5],[0.5,0.5]]\n",
        "X, y = make_blobs(n_samples=200,n_features=2, centers=center,random_state=None,cluster_std=0.20)\n",
        "plt.scatter(X[y == 0][:, 0], X[y == 0][:, 1],marker = 'o', color='r', label='-1')\n",
        "plt.scatter(X[y == 1][:, 0], X[y == 1][:, 1],marker = 'o', color='b', label='1')\n",
        "plt.show()"
      ],
      "execution_count": 24,
      "outputs": [
        {
          "output_type": "display_data",
          "data": {
            "image/png": "[encoded data removed]",
            "text/plain": [
              "<Figure size 432x288 with 1 Axes>"
            ]
          },
          "metadata": {
            "tags": []
          }
        }
      ]
    },
    {
      "cell_type": "code",
      "metadata": {
        "id": "imAtKRR_yJH5",
        "colab_type": "code",
        "colab": {
          "base_uri": "https://localhost:8080/",
          "height": 52
        },
        "outputId": "6e7ea13d-dbda-4071-f82d-377ce1ddf3f5"
      },
      "source": [
        "print(X.shape)\n",
        "print(y.shape)"
      ],
      "execution_count": 28,
      "outputs": [
        {
          "output_type": "stream",
          "text": [
            "(200, 2)\n",
            "(200,)\n"
          ],
          "name": "stdout"
        }
      ]
    },
    {
      "cell_type": "code",
      "metadata": {
        "id": "T2CL_GJoyJH8",
        "colab_type": "code",
        "colab": {}
      },
      "source": [
        "def sigmoid(x):\n",
        "    return 1 / (1 + np.exp(-x))\n",
        "\n",
        "def params(d):\n",
        "    w = np.zeros(shape = (d, 1))\n",
        "    b = 0\n",
        "    return w,b\n",
        "\n",
        "def cost(y, yhat):\n",
        "    m = y.shape[1]\n",
        "    cost = (-1 / m) * np.sum((y * np.log(yhat) + (1-y) * np.log(1 - yhat)))\n",
        "    return cost\n",
        "\n",
        "def propagate(w, b, X, y):\n",
        "    m = X.shape[1]\n",
        "    z = sigmoid(np.dot(w.T, X) + b) \n",
        "    cost = costFunction(y, z)\n",
        "    dw = (1 / m) * np.dot(X, (z - y).T)\n",
        "    db = (1 / m) * np.sum(z - y)\n",
        "    cost = np.squeeze(cost)\n",
        "    grads  = {'dw':dw, 'db':db}\n",
        "    return  grads, cost\n",
        "\n",
        "def gradientdescent(w, b, X, y,  epochs, alpha):\n",
        "    costs = []\n",
        "    for i in range(epochs):\n",
        "        grads, cost = propagate(w, b, X, y)\n",
        "        dw = grads['dw']\n",
        "        db = grads['db']\n",
        "        w = w - alpha/(i+1) * dw\n",
        "        b = b - alpha/(i+1) * db\n",
        "\n",
        "        costs.append(cost)\n",
        "        if i%3 == 0:\n",
        "            print(\"Itertation: {} cost: {}\".format(i, cost))\n",
        "        parameters = {'w': w, 'b': b}\n",
        "        grads = {'db':db, 'dw':dw}\n",
        "    return parameters, grads, costs\n",
        "\n",
        "def SGD(w, b, X, y,  epochs, alpha, bs = 32):\n",
        "    costs = []\n",
        "    for i in range(epochs):\n",
        "        cost1 = 0\n",
        "        for j in range(0, X.shape[1], bs):\n",
        "            miniX, miniY = X[:, j : j + bs], y[:, j : j + bs]\n",
        "            grads, cost = propagate(w, b, miniX, miniY)\n",
        "            dw = grads['dw']\n",
        "            db = grads['db']\n",
        "            w = w - alpha/(i+1) * dw\n",
        "            b = b - alpha/(i+1) * db\n",
        "            cost1 += cost\n",
        "        costs.append(cost1/bs)\n",
        "        if i%3 == 0:\n",
        "            print(\"Itertation: {} cost: {}\".format(i, cost1/miniX.shape[1]))\n",
        "        parameters = {'w': w, 'b': b}\n",
        "        grads = {'db':db, 'dw':dw}\n",
        "    return parameters, grads, costs\n",
        "\n",
        "def pred_values(w, X, b):\n",
        "    pred_prob = sigmoid(np.dot(w.T, X) + b) #we compute the activation here\n",
        "    pred_value = np.where(pred_prob >= .5, 1, 0) \n",
        "    return np.squeeze(pred_value) \n",
        "\n",
        "def predict(X, w, b):\n",
        "    z = (sigmoid(np.dot(w.T, trainX.T) + b)).T\n",
        "    yhat = np.where(z > 0.5, 1, 0)\n",
        "    return yhat\n",
        "\n",
        "def calculateAccuracy(yhat, y):\n",
        "    correctSamples = np.sum(yhat == y)\n",
        "    accuracy = np.mean(yhat == y)\n",
        "    return accuracy, correctSamples\n",
        "\n",
        "def model(trainX, trainY, epochs = 200, alpha = 0.5, sgd = False):\n",
        "    w, b = params(trainX.shape[0])\n",
        "    if not sgd:\n",
        "        parameters, grads, costs = gradientdescent(w, b, trainX, trainY, epochs, alpha)\n",
        "    else:\n",
        "        parameters, grads, costs = SGD(w, b, trainX, trainY, epochs, alpha)\n",
        "\n",
        "    w = parameters['w']\n",
        "    b = parameters['b']\n",
        "    return w, b, costs\n"
      ],
      "execution_count": 0,
      "outputs": []
    },
    {
      "cell_type": "code",
      "metadata": {
        "id": "FoSP7hTIyJIB",
        "colab_type": "code",
        "colab": {},
        "outputId": "08f99e7b-84e4-4148-f490-caecf9c2c599"
      },
      "source": [
        "w, b, costsgd = model(trainX.T, trainY.T, sgd = True, epochs = 200)"
      ],
      "execution_count": 0,
      "outputs": [
        {
          "output_type": "stream",
          "text": [
            "Itertation: 0 cost: 0.48798354079641904\n",
            "Itertation: 3 cost: 0.26543748718463933\n",
            "Itertation: 6 cost: 0.2284893180978606\n",
            "Itertation: 9 cost: 0.21048960210203554\n",
            "Itertation: 12 cost: 0.19920285279438413\n",
            "Itertation: 15 cost: 0.19121931659286392\n",
            "Itertation: 18 cost: 0.1851559275940302\n",
            "Itertation: 21 cost: 0.18032908191119268\n",
            "Itertation: 24 cost: 0.1763560194812421\n",
            "Itertation: 27 cost: 0.1730030523902207\n",
            "Itertation: 30 cost: 0.17011810495480667\n",
            "Itertation: 33 cost: 0.16759723236708898\n",
            "Itertation: 36 cost: 0.16536656378693246\n",
            "Itertation: 39 cost: 0.16337190943073152\n",
            "Itertation: 42 cost: 0.16157245680030105\n",
            "Itertation: 45 cost: 0.159936778330107\n",
            "Itertation: 48 cost: 0.15844020956581176\n",
            "Itertation: 51 cost: 0.15706307339662315\n",
            "Itertation: 54 cost: 0.15578944487504742\n",
            "Itertation: 57 cost: 0.15460627189383694\n",
            "Itertation: 60 cost: 0.15350273629770209\n",
            "Itertation: 63 cost: 0.15246978121877133\n",
            "Itertation: 66 cost: 0.15149975569958285\n",
            "Itertation: 69 cost: 0.1505861435990024\n",
            "Itertation: 72 cost: 0.14972335406736317\n",
            "Itertation: 75 cost: 0.14890655767207692\n",
            "Itertation: 78 cost: 0.14813155683150017\n",
            "Itertation: 81 cost: 0.14739468235325598\n",
            "Itertation: 84 cost: 0.14669271006107254\n",
            "Itertation: 87 cost: 0.14602279304253873\n",
            "Itertation: 90 cost: 0.14538240616119125\n",
            "Itertation: 93 cost: 0.14476930028380128\n",
            "Itertation: 96 cost: 0.14418146426754114\n",
            "Itertation: 99 cost: 0.14361709319322025\n",
            "Itertation: 102 cost: 0.14307456166242\n",
            "Itertation: 105 cost: 0.14255240122785315\n",
            "Itertation: 108 cost: 0.14204928121869886\n",
            "Itertation: 111 cost: 0.14156399237113063\n",
            "Itertation: 114 cost: 0.14109543278970407\n",
            "Itertation: 117 cost: 0.14064259585571348\n",
            "Itertation: 120 cost: 0.1402045597699717\n",
            "Itertation: 123 cost: 0.13978047847412226\n",
            "Itertation: 126 cost: 0.13936957373985837\n",
            "Itertation: 129 cost: 0.13897112825180705\n",
            "Itertation: 132 cost: 0.13858447953924358\n",
            "Itertation: 135 cost: 0.13820901463569418\n",
            "Itertation: 138 cost: 0.13784416536500155\n",
            "Itertation: 141 cost: 0.13748940416843755\n",
            "Itertation: 144 cost: 0.13714424040065093\n",
            "Itertation: 147 cost: 0.1368082170331676\n",
            "Itertation: 150 cost: 0.13648090771324972\n",
            "Itertation: 153 cost: 0.1361619141335064\n",
            "Itertation: 156 cost: 0.13585086367400817\n",
            "Itertation: 159 cost: 0.1355474072840043\n",
            "Itertation: 162 cost: 0.13525121757485722\n",
            "Itertation: 165 cost: 0.1349619870996303\n",
            "Itertation: 168 cost: 0.13467942679801556\n",
            "Itertation: 171 cost: 0.13440326458805438\n",
            "Itertation: 174 cost: 0.1341332440884742\n",
            "Itertation: 177 cost: 0.13386912345749258\n",
            "Itertation: 180 cost: 0.13361067433568466\n",
            "Itertation: 183 cost: 0.13335768088201624\n",
            "Itertation: 186 cost: 0.13310993889344405\n",
            "Itertation: 189 cost: 0.13286725499961174\n",
            "Itertation: 192 cost: 0.13262944592515047\n",
            "Itertation: 195 cost: 0.13239633781294313\n",
            "Itertation: 198 cost: 0.13216776560245674\n"
          ],
          "name": "stdout"
        }
      ]
    },
    {
      "cell_type": "code",
      "metadata": {
        "id": "3Ni6XjnkyJIE",
        "colab_type": "code",
        "colab": {},
        "outputId": "13155fcb-3d11-4a85-c5cf-8cbd83e3bd8a"
      },
      "source": [
        "plt.xlabel(\"Number of Iterations\")\n",
        "plt.ylabel(\"Cost (Gradient Descent)\")\n",
        "plt.plot(costgd,linewidth =3)"
      ],
      "execution_count": 0,
      "outputs": [
        {
          "output_type": "execute_result",
          "data": {
            "text/plain": [
              "[<matplotlib.lines.Line2D at 0x1a22b09cd0>]"
            ]
          },
          "metadata": {
            "tags": []
          },
          "execution_count": 259
        },
        {
          "output_type": "display_data",
          "data": {
            "image/png": "[encoded data removed]",
            "text/plain": [
              "<Figure size 432x288 with 1 Axes>"
            ]
          },
          "metadata": {
            "tags": [],
            "needs_background": "light"
          }
        }
      ]
    },
    {
      "cell_type": "code",
      "metadata": {
        "id": "oefQh8rmyJIH",
        "colab_type": "code",
        "colab": {},
        "outputId": "253b430a-d31f-4924-dc24-59e24a4aca59"
      },
      "source": [
        "plt.xlabel(\"Number of Iterations\")\n",
        "plt.ylabel(\"Cost (Stochastic Gradient Descent)\")\n",
        "plt.plot(costsgd,linewidth=3)"
      ],
      "execution_count": 0,
      "outputs": [
        {
          "output_type": "execute_result",
          "data": {
            "text/plain": [
              "[<matplotlib.lines.Line2D at 0x1a22a11310>]"
            ]
          },
          "metadata": {
            "tags": []
          },
          "execution_count": 260
        },
        {
          "output_type": "display_data",
          "data": {
            "image/png": "[encoded data removed]",
            "text/plain": [
              "<Figure size 432x288 with 1 Axes>"
            ]
          },
          "metadata": {
            "tags": [],
            "needs_background": "light"
          }
        }
      ]
    },
    {
      "cell_type": "code",
      "metadata": {
        "id": "jgocQD6CyJIJ",
        "colab_type": "code",
        "colab": {}
      },
      "source": [
        ""
      ],
      "execution_count": 0,
      "outputs": []
    }
  ]
}