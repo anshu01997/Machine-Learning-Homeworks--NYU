{
  "nbformat": 4,
  "nbformat_minor": 0,
  "metadata": {
    "colab": {
      "name": "Ques4-HW5-am10263.ipynb",
      "provenance": []
    },
    "kernelspec": {
      "name": "python3",
      "display_name": "Python 3"
    }
  },
  "cells": [
    {
      "cell_type": "code",
      "metadata": {
        "id": "XGxprB39ciOA",
        "colab_type": "code",
        "colab": {}
      },
      "source": [
        "import torchvision\n",
        "from torchvision import datasets, models, transforms\n",
        "import torch.nn as nn\n",
        "import torch\n",
        "import torch.optim as optim\n",
        "import time\n",
        "import os\n",
        "import copy\n",
        "from collections import defaultdict\n",
        "import matplotlib.pyplot as plt\n",
        "\n",
        "transforms = transforms.Compose([\n",
        "    transforms.Resize(256),\n",
        "    transforms.CenterCrop(224),\n",
        "    transforms.ToTensor(),\n",
        "    transforms.Normalize([0.485, 0.456, 0.406],\n",
        "                        [0.229, 0.224, 0.225])\n",
        "  ])"
      ],
      "execution_count": 0,
      "outputs": []
    },
    {
      "cell_type": "code",
      "metadata": {
        "id": "TC-kjIGqctz_",
        "colab_type": "code",
        "colab": {}
      },
      "source": [
        "def train_model(model, dataloaders, criterion, optimizer, num_epochs=25, is_inception=False):\n",
        "    since = time.time()\n",
        "    loss_acc_history = defaultdict(list)\n",
        "    \n",
        "    best_model_wts = copy.deepcopy(model.state_dict())\n",
        "    best_acc = 0.0\n",
        "\n",
        "    for epoch in range(num_epochs):\n",
        "        print('Epoch {}/{}'.format(epoch, num_epochs - 1))\n",
        "        print('-' * 10)\n",
        "\n",
        "        # Each epoch has a training and validation phase\n",
        "        for phase in ['train', 'val']:\n",
        "            if phase == 'train':\n",
        "                model.train()  # Set model to training mode\n",
        "            else:\n",
        "                model.eval()   # Set model to evaluate mode\n",
        "\n",
        "            running_loss = 0.0\n",
        "            running_corrects = 0\n",
        "\n",
        "            # Iterate over data.\n",
        "            for inputs, labels in dataloaders[phase]:\n",
        "                inputs = inputs.to(device)\n",
        "                labels = labels.to(device)\n",
        "\n",
        "                # zero the parameter gradients\n",
        "                optimizer.zero_grad()\n",
        "\n",
        "                # forward\n",
        "                # track history if only in train\n",
        "                with torch.set_grad_enabled(phase == 'train'):\n",
        "                    # Get model outputs and calculate loss\n",
        "                    # Special case for inception because in training it has an auxiliary output. In train\n",
        "                    #   mode we calculate the loss by summing the final output and the auxiliary output\n",
        "                    #   but in testing we only consider the final output.\n",
        "                    if is_inception and phase == 'train':\n",
        "                        # From https://discuss.pytorch.org/t/how-to-optimize-inception-model-with-auxiliary-classifiers/7958\n",
        "                        outputs, aux_outputs = model(inputs)\n",
        "                        loss1 = criterion(outputs, labels)\n",
        "                        loss2 = criterion(aux_outputs, labels)\n",
        "                        loss = loss1 + 0.4*loss2\n",
        "                    else:\n",
        "                        outputs = model(inputs)\n",
        "                        loss = criterion(outputs, labels)\n",
        "\n",
        "                    _, preds = torch.max(outputs, 1)\n",
        "\n",
        "                    # backward + optimize only if in training phase\n",
        "                    if phase == 'train':\n",
        "                        loss.backward()\n",
        "                        optimizer.step()\n",
        "\n",
        "                # statistics\n",
        "                running_loss += loss.item() * inputs.size(0)\n",
        "                running_corrects += torch.sum(preds == labels.data)\n",
        "\n",
        "            epoch_loss = running_loss / len(dataloaders[phase].dataset)\n",
        "            epoch_acc = running_corrects.double() / len(dataloaders[phase].dataset)\n",
        "\n",
        "            print('{} Loss: {:.4f} Acc: {:.4f}'.format(phase, epoch_loss, epoch_acc))\n",
        "\n",
        "            # deep copy the model\n",
        "            if phase == 'val' and epoch_acc > best_acc:\n",
        "                best_acc = epoch_acc\n",
        "                best_model_wts = copy.deepcopy(model.state_dict())\n",
        "            loss_acc_history[phase].append((epoch_loss, epoch_acc))\n",
        "\n",
        "        print()\n",
        "\n",
        "    time_elapsed = time.time() - since\n",
        "    print('Training complete in {:.0f}m {:.0f}s'.format(time_elapsed // 60, time_elapsed % 60))\n",
        "    print('Best val Acc: {:4f}'.format(best_acc))\n",
        "\n",
        "    # load best model weights\n",
        "    model.load_state_dict(best_model_wts)\n",
        "    return model, loss_acc_history"
      ],
      "execution_count": 0,
      "outputs": []
    },
    {
      "cell_type": "code",
      "metadata": {
        "id": "_kz9o0JSc5au",
        "colab_type": "code",
        "colab": {}
      },
      "source": [
        "model = models.resnet34(pretrained=True)\n",
        "model.fc = nn.Linear(model.fc.in_features, 2)\n",
        "\n",
        "device = torch.device(\"cuda:0\" if torch.cuda.is_available() else \"cpu\")\n",
        "model = model.to(device)\n",
        "input_size = 224"
      ],
      "execution_count": 0,
      "outputs": []
    },
    {
      "cell_type": "code",
      "metadata": {
        "id": "oLa_ASi7dAn7",
        "colab_type": "code",
        "colab": {}
      },
      "source": [
        ""
      ],
      "execution_count": 0,
      "outputs": []
    },
    {
      "cell_type": "code",
      "metadata": {
        "id": "j-WX3YJDdJTB",
        "colab_type": "code",
        "colab": {}
      },
      "source": [
        "train_set = datasets.ImageFolder(\"data/train\",transforms)\n",
        "val_set = datasets.ImageFolder(\"data/val\",transforms)\n",
        "\n",
        "image_datasets = {'train': train_set, 'val': val_set}\n",
        "# Create training and validation dataloaders\n",
        "dataloaders_dict = {x: torch.utils.data.DataLoader(image_datasets[x], shuffle=True, num_workers=4) for x in ['train', 'val']}"
      ],
      "execution_count": 0,
      "outputs": []
    },
    {
      "cell_type": "code",
      "metadata": {
        "id": "cosJXAT8dMi4",
        "colab_type": "code",
        "colab": {
          "base_uri": "https://localhost:8080/",
          "height": 484
        },
        "outputId": "90fe1c10-3768-4ef5-ab87-c297e91199c4"
      },
      "source": [
        "# Setup the loss fxn\n",
        "criterion = nn.CrossEntropyLoss()\n",
        "\n",
        "optimizer = optim.SGD(model.parameters(), lr=0.001, momentum=0.9)\n",
        "\n",
        "# Train and evaluate\n",
        "model_ft, hist = train_model(model, dataloaders_dict, criterion, optimizer, num_epochs=20)"
      ],
      "execution_count": 0,
      "outputs": [
        {
          "output_type": "stream",
          "text": [
            "Epoch 0/19\n",
            "----------\n",
            "train Loss: 1.0106 Acc: 0.5167\n",
            "val Loss: 1.0946 Acc: 0.5000\n",
            "\n",
            "Epoch 1/19\n",
            "----------\n",
            "train Loss: 1.2082 Acc: 0.4167\n",
            "val Loss: 0.9138 Acc: 0.5417\n",
            "\n",
            "Epoch 2/19\n",
            "----------\n",
            "train Loss: 0.3183 Acc: 0.8667\n",
            "val Loss: 0.2723 Acc: 0.8333\n",
            "\n",
            "Epoch 3/19\n",
            "----------\n",
            "train Loss: 0.0949 Acc: 1.0000\n",
            "val Loss: 0.2100 Acc: 0.9167\n",
            "\n",
            "Epoch 4/19\n",
            "----------\n",
            "train Loss: 0.0494 Acc: 1.0000\n",
            "val Loss: 0.1314 Acc: 1.0000\n",
            "\n",
            "Epoch 5/19\n",
            "----------\n"
          ],
          "name": "stdout"
        }
      ]
    },
    {
      "cell_type": "code",
      "metadata": {
        "id": "Cgr6LypFdQve",
        "colab_type": "code",
        "colab": {}
      },
      "source": [
        "# Plot loss curves\n",
        "fig, ax = plt.subplots()\n",
        "ax.set_yscale('log')\n",
        "t = [x[0] for x in hist['train']]\n",
        "x = [str(i) for i in range(20)]\n",
        "ax.plot(x, t, label='training loss')\n",
        "print('Training Losses: ', t)\n",
        "t = [x[0] for x in hist['val']]\n",
        "ax.plot(x, t, label='validation loss')\n",
        "print('Validation Losses: ', t)\n",
        "\n",
        "ax.set(xlabel='Epoch', ylabel='Loss',\n",
        "       title='Loss v Epoch (ResNet34)')\n",
        "ax.grid()\n",
        "ax.legend()\n",
        "plt.show()\n",
        "\n",
        "max_train_accuracy = max([x[1] for x in hist['train']])\n",
        "print('Final Train Accuracy: ', float(max_train_accuracy))\n",
        "\n",
        "max_val_accuracy = max([x[1] for x in hist['val']])\n",
        "print('Final Validation Accuracy: ', float(max_val_accuracy))"
      ],
      "execution_count": 0,
      "outputs": []
    }
  ]
}