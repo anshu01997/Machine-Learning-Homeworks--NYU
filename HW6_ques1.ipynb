{
  "nbformat": 4,
  "nbformat_minor": 0,
  "metadata": {
    "colab": {
      "name": "HW6-ques1-am10263.ipynb",
      "provenance": []
    },
    "kernelspec": {
      "name": "python3",
      "display_name": "Python 3"
    }
  },
  "cells": [
    {
      "cell_type": "code",
      "metadata": {
        "id": "BxxaMwLoslHd",
        "colab_type": "code",
        "colab": {}
      },
      "source": [
        "from numpy import linalg as LA \n",
        "import matplotlib.pyplot as plt\n",
        "import numpy as np\n",
        "from numpy import linalg as LA\n",
        "from sklearn.metrics import mean_squared_error"
      ],
      "execution_count": 0,
      "outputs": []
    },
    {
      "cell_type": "code",
      "metadata": {
        "id": "ewH1knoespbw",
        "colab_type": "code",
        "outputId": "1fca8801-4f07-4f59-8b59-e7a6d56d8deb",
        "colab": {
          "base_uri": "https://localhost:8080/",
          "height": 35
        }
      },
      "source": [
        "#Part a) Find the sample mean\n",
        "\n",
        "sample = [[3,2,1],[2,4,5],[1,2,3],[0,2,5]]\n",
        "\n",
        "sample_mean = np.mean(sample, axis=0)\n",
        "print(\"Sample Mean: \",sample_mean)"
      ],
      "execution_count": 39,
      "outputs": [
        {
          "output_type": "stream",
          "text": [
            "Sample Mean:  [1.5 2.5 3.5]\n"
          ],
          "name": "stdout"
        }
      ]
    },
    {
      "cell_type": "code",
      "metadata": {
        "id": "PxunXXnz2a8R",
        "colab_type": "code",
        "colab": {
          "base_uri": "https://localhost:8080/",
          "height": 86
        },
        "outputId": "cf11b59d-82b4-45c9-b992-a47ad0881d1f"
      },
      "source": [
        "# Partb) Center data around mean by subtracting it from all samples\n",
        "sample_centered = sample - np.mean(sample, axis=0)\n",
        "sample_centered"
      ],
      "execution_count": 40,
      "outputs": [
        {
          "output_type": "execute_result",
          "data": {
            "text/plain": [
              "array([[ 1.5, -0.5, -2.5],\n",
              "       [ 0.5,  1.5,  1.5],\n",
              "       [-0.5, -0.5, -0.5],\n",
              "       [-1.5, -0.5,  1.5]])"
            ]
          },
          "metadata": {
            "tags": []
          },
          "execution_count": 40
        }
      ]
    },
    {
      "cell_type": "code",
      "metadata": {
        "id": "0FSmc0zxst7J",
        "colab_type": "code",
        "outputId": "acb8f756-1a6f-4769-8d36-c0ace9c66548",
        "colab": {
          "base_uri": "https://localhost:8080/",
          "height": 86
        }
      },
      "source": [
        "# Part b) Find the sample covariance matrix Q\n",
        "m, n = np.shape(X)\n",
        "data_adjust = []\n",
        "avgs = np.tile(sample_mean, (m, 1))\n",
        "data_adjust = X - avgs\n",
        "covX = np.cov(data_adjust.T)  \n",
        "print(\"Sample Covariance: \\n\",covX)"
      ],
      "execution_count": 41,
      "outputs": [
        {
          "output_type": "stream",
          "text": [
            "Sample Covariance: \n",
            " [[ 1.66666667  0.33333333 -1.66666667]\n",
            " [ 0.33333333  1.          1.        ]\n",
            " [-1.66666667  1.          3.66666667]]\n"
          ],
          "name": "stdout"
        }
      ]
    },
    {
      "cell_type": "code",
      "metadata": {
        "id": "HItzhgJhs0Bj",
        "colab_type": "code",
        "outputId": "9324ea76-f104-4039-ed04-b08cba5a1210",
        "colab": {
          "base_uri": "https://localhost:8080/",
          "height": 155
        }
      },
      "source": [
        "#Part b) Find the eigenvalues and eigenvectors.\n",
        "featValue, featVec=  np.linalg.eig(covX)  \n",
        "print(\"\\n Eigenvalues: \\n\",featValue)\n",
        "print(\"\\n Eigenvectors: \\n\",featVec)"
      ],
      "execution_count": 42,
      "outputs": [
        {
          "output_type": "stream",
          "text": [
            "\n",
            " Eigenvalues: \n",
            " [4.74888619 1.56450706 0.01994008]\n",
            "\n",
            " Eigenvectors: \n",
            " [[-0.45056922 -0.66677184 -0.59363515]\n",
            " [ 0.19247228 -0.72187235  0.66472154]\n",
            " [ 0.87174641 -0.18524476 -0.45358856]]\n"
          ],
          "name": "stdout"
        }
      ]
    },
    {
      "cell_type": "code",
      "metadata": {
        "id": "hdOqsHUh33dc",
        "colab_type": "code",
        "colab": {
          "base_uri": "https://localhost:8080/",
          "height": 35
        },
        "outputId": "a9b4f932-1083-4092-dfce-5236abe0b715"
      },
      "source": [
        "#Part c) PCA without using sklearn\n",
        "# Observe variance along eigenvectors obtained\n",
        "total = sum(featValue)\n",
        "var_exp = [(i / total)*100 for i in sorted(featValue, reverse = True)]\n",
        "cum_var_exp = np.cumsum(var_exp)\n",
        "print(cum_var_exp)"
      ],
      "execution_count": 43,
      "outputs": [
        {
          "output_type": "stream",
          "text": [
            "[ 74.98241353  99.6851566  100.        ]\n"
          ],
          "name": "stdout"
        }
      ]
    },
    {
      "cell_type": "markdown",
      "metadata": {
        "id": "cz10bvMD4Hkt",
        "colab_type": "text"
      },
      "source": [
        "Observe that the first two Eigenvectors capture most of the variance in the data. \n",
        "\n"
      ]
    },
    {
      "cell_type": "code",
      "metadata": {
        "id": "EbTCb6Vqs3Mp",
        "colab_type": "code",
        "outputId": "bb30bc4d-da81-4959-9157-ba4cf9608e85",
        "colab": {
          "base_uri": "https://localhost:8080/",
          "height": 104
        }
      },
      "source": [
        "\n",
        "# Part c) Finding PCA coefficients corresponding to each of the samples by choosing the top two eigenvectors\n",
        "top2_vectors = featVec[:,0:2]\n",
        "projection = sample_centered.dot(top2_vectors)\n",
        "print(\"PCA Coefficients corresponding to each of the samples: \\n\",projection)"
      ],
      "execution_count": 44,
      "outputs": [
        {
          "output_type": "stream",
          "text": [
            "PCA Coefficients corresponding to each of the samples: \n",
            " [[-2.95145599 -0.17610969]\n",
            " [ 1.37104342 -1.69406159]\n",
            " [-0.30682473  0.78694448]\n",
            " [ 1.8872373   1.0832268 ]]\n"
          ],
          "name": "stdout"
        }
      ]
    },
    {
      "cell_type": "code",
      "metadata": {
        "id": "eRFynsjHtYq8",
        "colab_type": "code",
        "outputId": "ce3017fa-449d-4d83-de62-0a505cc65b49",
        "colab": {
          "base_uri": "https://localhost:8080/",
          "height": 259
        }
      },
      "source": [
        "#Part d) Reconstructing the original samples\n",
        "sample_reconstructed = projection.dot(top2_vectors.T) + sample_mean\n",
        "print(\"Reconstructed Sample: \\n\",sample_reconstructed)\n",
        "\n",
        "# Calculate reconstruction error\n",
        "\n",
        "reconstruction_error = ((sample_centered - sample_reconstructed)**2)\n",
        "print(\"\\n Reconstruction Error: \\n\",reconstruction_error)\n",
        "\n",
        "print(\"\\n Mean Reconstruction Error: \\n\", mean_squared_error(sample, sample_reconstructed))"
      ],
      "execution_count": 45,
      "outputs": [
        {
          "output_type": "stream",
          "text": [
            "Reconstructed Sample: \n",
            " [[ 2.94726021  2.05905526  0.95970224]\n",
            " [ 2.0118026   3.98678407  5.0090182 ]\n",
            " [ 1.11353336  1.87287129  3.0867493 ]\n",
            " [-0.07259617  2.08128939  4.94453025]]\n",
            "\n",
            " Reconstruction Error: \n",
            " [[ 2.09456211  6.5487638  11.9695396 ]\n",
            " [ 2.28554709  6.18409501 12.31320875]\n",
            " [ 2.60348992  5.63051814 12.86477056]\n",
            " [ 2.03748169  6.66305491 11.86478866]]\n",
            "\n",
            " Mean Reconstruction Error: \n",
            " 0.004985020477602166\n"
          ],
          "name": "stdout"
        }
      ]
    }
  ]
}