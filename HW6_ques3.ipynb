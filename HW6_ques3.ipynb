{
  "nbformat": 4,
  "nbformat_minor": 0,
  "metadata": {
    "colab": {
      "name": "HW6_ques3-am10263.ipynb",
      "provenance": []
    },
    "kernelspec": {
      "name": "python3",
      "display_name": "Python 3"
    }
  },
  "cells": [
    {
      "cell_type": "code",
      "metadata": {
        "id": "Jk-5gMxUxgXb",
        "colab_type": "code",
        "colab": {}
      },
      "source": [
        "#Importing the required libraries and datasets\n",
        "import matplotlib.pyplot as plt\n",
        "import numpy as np\n",
        "from sklearn.cluster import KMeans\n",
        "from sklearn.preprocessing import StandardScaler\n",
        "import pandas as pd\n",
        "%matplotlib inline\n",
        "\n",
        "url_votes = 'https://raw.githubusercontent.com/exemplary-citizen/PCA-and-Senate-Voting-Data/master/senator_pca_problem/senator_data_pca/'\n",
        "senator_df =  pd.read_csv(url_votes + 'data_matrix.csv',error_bad_lines=False)\n",
        "af = pd.read_csv(url_votes + 'politician_labels.txt', header=None)\n",
        "af[\"affiliations\"] = af[0].str.split().str[-1]\n"
      ],
      "execution_count": 0,
      "outputs": []
    },
    {
      "cell_type": "code",
      "metadata": {
        "id": "TitdEf83xmAN",
        "colab_type": "code",
        "outputId": "32c426ec-ecb8-4ea9-e161-43242bd335c6",
        "colab": {
          "base_uri": "https://localhost:8080/",
          "height": 225
        }
      },
      "source": [
        "#Data Normalization\n",
        "X = np.array(senator_df.values[:, 3:].T, dtype='float64')\n",
        "X_std = StandardScaler().fit_transform(X)\n",
        "affiliations = af[\"affiliations\"]\n",
        "print(affiliations)"
      ],
      "execution_count": 0,
      "outputs": [
        {
          "output_type": "stream",
          "text": [
            "0      Red\n",
            "1     Blue\n",
            "2     Blue\n",
            "3     Blue\n",
            "4     Blue\n",
            "      ... \n",
            "95    Blue\n",
            "96    Blue\n",
            "97     Red\n",
            "98     Red\n",
            "99     Red\n",
            "Name: affiliations, Length: 100, dtype: object\n"
          ],
          "name": "stdout"
        }
      ]
    },
    {
      "cell_type": "code",
      "metadata": {
        "id": "OWUrQ4b1xpJm",
        "colab_type": "code",
        "colab": {}
      },
      "source": [
        "kmeans = KMeans(2)\n",
        "labels = kmeans.fit(X_std).predict(X_std)\n",
        "y_kmeans = kmeans.predict(X_std)\n",
        "\n",
        "colors = []\n",
        "for i in range(len(y_kmeans)):\n",
        "    if y_kmeans[i] == 1:\n",
        "        colors.append('Blue')\n",
        "    else:\n",
        "        colors.append('Red')"
      ],
      "execution_count": 0,
      "outputs": []
    },
    {
      "cell_type": "code",
      "metadata": {
        "id": "Tr33DDILxvbH",
        "colab_type": "code",
        "outputId": "03f46ae6-c006-408b-95cd-8c28d0f65373",
        "colab": {
          "base_uri": "https://localhost:8080/",
          "height": 407
        }
      },
      "source": [
        "af['Predicted'] = colors\n",
        "af\n",
        "\n"
      ],
      "execution_count": 0,
      "outputs": [
        {
          "output_type": "execute_result",
          "data": {
            "text/html": [
              "<div>\n",
              "<style scoped>\n",
              "    .dataframe tbody tr th:only-of-type {\n",
              "        vertical-align: middle;\n",
              "    }\n",
              "\n",
              "    .dataframe tbody tr th {\n",
              "        vertical-align: top;\n",
              "    }\n",
              "\n",
              "    .dataframe thead th {\n",
              "        text-align: right;\n",
              "    }\n",
              "</style>\n",
              "<table border=\"1\" class=\"dataframe\">\n",
              "  <thead>\n",
              "    <tr style=\"text-align: right;\">\n",
              "      <th></th>\n",
              "      <th>0</th>\n",
              "      <th>affiliations</th>\n",
              "      <th>Predicted</th>\n",
              "    </tr>\n",
              "  </thead>\n",
              "  <tbody>\n",
              "    <tr>\n",
              "      <th>0</th>\n",
              "      <td>Specter Red</td>\n",
              "      <td>Red</td>\n",
              "      <td>Red</td>\n",
              "    </tr>\n",
              "    <tr>\n",
              "      <th>1</th>\n",
              "      <td>Obama Blue</td>\n",
              "      <td>Blue</td>\n",
              "      <td>Blue</td>\n",
              "    </tr>\n",
              "    <tr>\n",
              "      <th>2</th>\n",
              "      <td>Mikulski Blue</td>\n",
              "      <td>Blue</td>\n",
              "      <td>Blue</td>\n",
              "    </tr>\n",
              "    <tr>\n",
              "      <th>3</th>\n",
              "      <td>Boxer Blue</td>\n",
              "      <td>Blue</td>\n",
              "      <td>Blue</td>\n",
              "    </tr>\n",
              "    <tr>\n",
              "      <th>4</th>\n",
              "      <td>Nelson Blue</td>\n",
              "      <td>Blue</td>\n",
              "      <td>Blue</td>\n",
              "    </tr>\n",
              "    <tr>\n",
              "      <th>...</th>\n",
              "      <td>...</td>\n",
              "      <td>...</td>\n",
              "      <td>...</td>\n",
              "    </tr>\n",
              "    <tr>\n",
              "      <th>95</th>\n",
              "      <td>Harkin Blue</td>\n",
              "      <td>Blue</td>\n",
              "      <td>Blue</td>\n",
              "    </tr>\n",
              "    <tr>\n",
              "      <th>96</th>\n",
              "      <td>Johnson Blue</td>\n",
              "      <td>Blue</td>\n",
              "      <td>Blue</td>\n",
              "    </tr>\n",
              "    <tr>\n",
              "      <th>97</th>\n",
              "      <td>Lott Red</td>\n",
              "      <td>Red</td>\n",
              "      <td>Red</td>\n",
              "    </tr>\n",
              "    <tr>\n",
              "      <th>98</th>\n",
              "      <td>Allard Red</td>\n",
              "      <td>Red</td>\n",
              "      <td>Red</td>\n",
              "    </tr>\n",
              "    <tr>\n",
              "      <th>99</th>\n",
              "      <td>Frist Red</td>\n",
              "      <td>Red</td>\n",
              "      <td>Red</td>\n",
              "    </tr>\n",
              "  </tbody>\n",
              "</table>\n",
              "<p>100 rows × 3 columns</p>\n",
              "</div>"
            ],
            "text/plain": [
              "                0 affiliations Predicted\n",
              "0     Specter Red          Red       Red\n",
              "1      Obama Blue         Blue      Blue\n",
              "2   Mikulski Blue         Blue      Blue\n",
              "3      Boxer Blue         Blue      Blue\n",
              "4     Nelson Blue         Blue      Blue\n",
              "..            ...          ...       ...\n",
              "95    Harkin Blue         Blue      Blue\n",
              "96   Johnson Blue         Blue      Blue\n",
              "97       Lott Red          Red       Red\n",
              "98     Allard Red          Red       Red\n",
              "99      Frist Red          Red       Red\n",
              "\n",
              "[100 rows x 3 columns]"
            ]
          },
          "metadata": {
            "tags": []
          },
          "execution_count": 15
        }
      ]
    },
    {
      "cell_type": "code",
      "metadata": {
        "id": "PhJM7ck_x7HT",
        "colab_type": "code",
        "outputId": "944187a1-307d-4546-8ce9-31eeaec0c48f",
        "colab": {
          "base_uri": "https://localhost:8080/",
          "height": 86
        }
      },
      "source": [
        "#Erratic Predictions\n",
        "for i in range(len(af)):\n",
        "    x = list(af.loc[i])\n",
        "    #print(x)\n",
        "    if x[1] != x[2]:\n",
        "        print(i,\":\",x[0])"
      ],
      "execution_count": 0,
      "outputs": [
        {
          "output_type": "stream",
          "text": [
            "21 : Nelson Blue\n",
            "34 : Jeffords Yellow\n",
            "58 : Chafee Red\n",
            "62 : Dayton Yellow\n"
          ],
          "name": "stdout"
        }
      ]
    },
    {
      "cell_type": "code",
      "metadata": {
        "id": "SkRbyU53x-k-",
        "colab_type": "code",
        "colab": {}
      },
      "source": [
        " #We use PCA to reduce the dimensions to 2, by doing this we can basically understand why there was a misprediction.\n",
        " from sklearn.decomposition import PCA\n",
        "pca = PCA(n_components=2)\n",
        "projected = pca.fit_transform(X) \n"
      ],
      "execution_count": 0,
      "outputs": []
    },
    {
      "cell_type": "code",
      "metadata": {
        "id": "NFrJwUSTyWWf",
        "colab_type": "code",
        "outputId": "a60e3711-cc17-49b8-9695-5d8da7317305",
        "colab": {
          "base_uri": "https://localhost:8080/",
          "height": 265
        }
      },
      "source": [
        "kmeans = KMeans(2)\n",
        "labels = kmeans.fit(projected).predict(projected)\n",
        "plt.scatter(projected[:, 0], projected[:, 1], c=labels, s=40, cmap='viridis');\n",
        "ax = plt.gca()\n",
        "ax.axis('equal')\n",
        "plt.show();"
      ],
      "execution_count": 0,
      "outputs": [
        {
          "output_type": "display_data",
          "data": {
            "image/png": "[encoded data removed]",
            "text/plain": [
              "<Figure size 432x288 with 1 Axes>"
            ]
          },
          "metadata": {
            "tags": [],
            "needs_background": "light"
          }
        }
      ]
    },
    {
      "cell_type": "code",
      "metadata": {
        "id": "11wyYIrpyxgR",
        "colab_type": "code",
        "outputId": "5f9da6ce-0556-4c4d-e877-8177885b3a46",
        "colab": {
          "base_uri": "https://localhost:8080/",
          "height": 265
        }
      },
      "source": [
        "kmeans = KMeans(2)\n",
        "labels = kmeans.fit(projected).predict(projected)\n",
        "plt.scatter(projected[:, 0], projected[:, 1], c=affiliations, s=40, cmap='viridis');\n",
        "ax = plt.gca()\n",
        "ax.axis('equal')\n",
        "plt.show();"
      ],
      "execution_count": 0,
      "outputs": [
        {
          "output_type": "display_data",
          "data": {
            "image/png": "[encoded data removed]",
            "text/plain": [
              "<Figure size 432x288 with 1 Axes>"
            ]
          },
          "metadata": {
            "tags": [],
            "needs_background": "light"
          }
        }
      ]
    },
    {
      "cell_type": "code",
      "metadata": {
        "id": "t5CA56T_yygU",
        "colab_type": "code",
        "outputId": "7da33fbe-629c-4a4d-da97-9f5163f61735",
        "colab": {
          "base_uri": "https://localhost:8080/",
          "height": 207
        }
      },
      "source": [
        "Red = np.where(affiliations=='Red')\n",
        "Blue  = np.where(affiliations=='Blue')\n",
        "Red = np.squeeze(Red)\n",
        "Blue = np.squeeze(Blue)\n",
        "print(Red)\n",
        "print(Blue)\n",
        "red_sen_id = np.where(projected[Red,0] >= 0)\n",
        "blue_sen_id = np.where(projected[Blue,0] < 0)\n",
        "print(Red[red_sen_id])\n",
        "print(Blue[blue_sen_id])\n",
        "print(af[0][Red[red_sen_id]])\n",
        "print(af[0][Blue[blue_sen_id]])"
      ],
      "execution_count": 0,
      "outputs": [
        {
          "output_type": "stream",
          "text": [
            "[ 0  7  9 11 13 14 15 18 23 26 27 28 32 33 36 37 38 39 41 42 45 46 47 48\n",
            " 49 52 53 56 57 58 59 60 66 67 68 69 70 71 72 73 74 78 79 80 82 83 85 89\n",
            " 90 91 92 93 97 98 99]\n",
            "[ 1  2  3  4  5  6  8 10 12 16 17 19 20 21 22 24 25 29 30 31 35 40 43 44\n",
            " 50 51 54 55 61 63 64 65 75 76 77 81 84 86 87 88 94 95 96]\n",
            "[58]\n",
            "[21]\n",
            "58    Chafee Red\n",
            "Name: 0, dtype: object\n",
            "21    Nelson Blue\n",
            "Name: 0, dtype: object\n"
          ],
          "name": "stdout"
        }
      ]
    },
    {
      "cell_type": "markdown",
      "metadata": {
        "id": "M9kBZS44zJO2",
        "colab_type": "text"
      },
      "source": [
        "<ul>\n",
        "<li> <b> From the above PCA plot we can see clearly spot the two misclassified senators- One red point in the blue cluster and one blue point among the red cluster. <br> \n",
        "<li> <b> K means gives us circular clusters \n",
        "<li> The reason that K Means has misclassified these points can be that these two are much closer to the cluster centers of the opposite group than their own.\n",
        "We can visualize and observe that the two green crosses denote the two cluster centers and we can also see that the misclassified points are much closer to the opposite party's cluster center.\n",
        "</b>\n",
        "\n",
        "<li> <b> Also, we can get a qualitative understanding of why these points are closer to the opposite cluster by looking at the multiple number of times these two senators have abstained their vote showing non-typical party behavior. \n",
        "<li> <b> This is shown in the results for the misclassified senators : Lincoln D. Chafee and E. Benjamin'Ben'Nelson \n",
        "    </ul>"
      ]
    }
  ]
}